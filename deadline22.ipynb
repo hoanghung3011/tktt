{
  "nbformat": 4,
  "nbformat_minor": 0,
  "metadata": {
    "colab": {
      "name": "Untitled6.ipynb",
      "provenance": []
    },
    "kernelspec": {
      "name": "python3",
      "display_name": "Python 3"
    }
  },
  "cells": [
    {
      "cell_type": "code",
      "metadata": {
        "id": "-uxoSIvzo_6w"
      },
      "source": [
        "!cat data.csv"
      ],
      "execution_count": null,
      "outputs": []
    },
    {
      "cell_type": "code",
      "metadata": {
        "id": "yOd8JiqrpqIO",
        "outputId": "e04ed854-b028-48e6-dcb3-211e1d533d14",
        "colab": {
          "base_uri": "https://localhost:8080/",
          "height": 550
        }
      },
      "source": [
        "import pandas as pd\n",
        "\n",
        "data = pd.read_csv('data.csv')\n",
        "print(data)\n",
        "data.columns = ['size', 'operations']\n",
        "\n",
        "import matplotlib.pyplot as plt\n",
        "plt.scatter(data['size'], data['operations'])"
      ],
      "execution_count": null,
      "outputs": [
        {
          "output_type": "stream",
          "text": [
            "     n\\tt          n)\n",
            "0      10         333\n",
            "1      11         386\n",
            "2      12         419\n",
            "3      13         525\n",
            "4      14         647\n",
            "..    ...         ...\n",
            "91  36194  3604404251\n",
            "92  39813  4355735483\n",
            "93  43794  5273812625\n",
            "94  48173  6391065950\n",
            "95  52990  7729460427\n",
            "\n",
            "[96 rows x 2 columns]\n"
          ],
          "name": "stdout"
        },
        {
          "output_type": "execute_result",
          "data": {
            "text/plain": [
              "<matplotlib.collections.PathCollection at 0x7f52360685f8>"
            ]
          },
          "metadata": {
            "tags": []
          },
          "execution_count": 4
        },
        {
          "output_type": "display_data",
          "data": {
            "image/png": "[encoded data removed]",
            "text/plain": [
              "<Figure size 432x288 with 1 Axes>"
            ]
          },
          "metadata": {
            "tags": [],
            "needs_background": "light"
          }
        }
      ]
    },
    {
      "cell_type": "code",
      "metadata": {
        "id": "wFDYD0XFqOOX"
      },
      "source": [
        "import numpy as np\n",
        "\n",
        "X_ = data['size'].values.reshape(-1,1)\n",
        "X_ = X_**2\n",
        "#print(X_)\n"
      ],
      "execution_count": null,
      "outputs": []
    },
    {
      "cell_type": "code",
      "metadata": {
        "id": "i93mubw9rGWl",
        "outputId": "eab27014-3264-4418-ad9d-f95fd7566e77",
        "colab": {
          "base_uri": "https://localhost:8080/",
          "height": 35
        }
      },
      "source": [
        "from sklearn.linear_model import LinearRegression\n",
        "\n",
        "regr = LinearRegression()\n",
        "\n",
        "regr.fit(X_, data['operations'])\n",
        "print(regr.coef_)"
      ],
      "execution_count": null,
      "outputs": [
        {
          "output_type": "stream",
          "text": [
            "[2.7518663]\n"
          ],
          "name": "stdout"
        }
      ]
    }
  ]
}